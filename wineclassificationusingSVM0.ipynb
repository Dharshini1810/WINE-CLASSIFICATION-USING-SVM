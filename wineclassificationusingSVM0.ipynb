{
  "nbformat": 4,
  "nbformat_minor": 0,
  "metadata": {
    "colab": {
      "name": "wineclassificationusingSVM0.ipynb",
      "provenance": [],
      "collapsed_sections": []
    },
    "kernelspec": {
      "name": "python3",
      "display_name": "Python 3"
    },
    "language_info": {
      "name": "python"
    }
  },
  "cells": [
    {
      "cell_type": "code",
      "execution_count": 4,
      "metadata": {
        "id": "f6VpPqRxBnxt"
      },
      "outputs": [],
      "source": [
        "import sklearn\n",
        "from sklearn import datasets\n",
        "from sklearn import svm as svm\n",
        "from sklearn import metrics\n"
      ]
    },
    {
      "cell_type": "code",
      "source": [
        "wine=datasets.load_wine();\n",
        "print(wine.feature_names); \n",
        "print(wine.target_names);"
      ],
      "metadata": {
        "colab": {
          "base_uri": "https://localhost:8080/"
        },
        "id": "Mg4otdwgCCSl",
        "outputId": "531dcb00-229d-448e-adcc-0d1da4d8ab5a"
      },
      "execution_count": 5,
      "outputs": [
        {
          "output_type": "stream",
          "name": "stdout",
          "text": [
            "['alcohol', 'malic_acid', 'ash', 'alcalinity_of_ash', 'magnesium', 'total_phenols', 'flavanoids', 'nonflavanoid_phenols', 'proanthocyanins', 'color_intensity', 'hue', 'od280/od315_of_diluted_wines', 'proline']\n",
            "['class_0' 'class_1' 'class_2']\n"
          ]
        }
      ]
    },
    {
      "cell_type": "code",
      "source": [
        "x=wine.data\n",
        "y=wine.target \n",
        "x_train,x_test,y_train,y_test=sklearn.model_selection.train_test_split(x,y,test_size=0.2)\n",
        "print(x_train,y_train); "
      ],
      "metadata": {
        "colab": {
          "base_uri": "https://localhost:8080/"
        },
        "id": "1xhhiJNHErFT",
        "outputId": "fd50fa5b-0674-4f87-d81e-9722601e232c"
      },
      "execution_count": 16,
      "outputs": [
        {
          "output_type": "stream",
          "name": "stdout",
          "text": [
            "[[1.208e+01 1.330e+00 2.300e+00 ... 1.070e+00 3.210e+00 6.250e+02]\n",
            " [1.281e+01 2.310e+00 2.400e+00 ... 6.600e-01 1.360e+00 5.600e+02]\n",
            " [1.358e+01 2.580e+00 2.690e+00 ... 7.400e-01 1.800e+00 7.500e+02]\n",
            " ...\n",
            " [1.166e+01 1.880e+00 1.920e+00 ... 1.230e+00 2.140e+00 4.280e+02]\n",
            " [1.264e+01 1.360e+00 2.020e+00 ... 9.800e-01 1.590e+00 4.500e+02]\n",
            " [1.348e+01 1.670e+00 2.640e+00 ... 5.700e-01 1.780e+00 6.200e+02]] [1 2 2 1 0 1 2 2 0 0 2 2 0 2 2 1 1 1 1 0 1 1 0 0 0 0 2 0 1 0 1 0 1 2 0 0 2\n",
            " 1 0 2 0 2 2 0 0 2 0 1 1 0 1 0 1 1 2 1 0 1 0 0 0 2 0 1 2 2 1 2 1 2 0 1 1 1\n",
            " 0 0 0 1 2 1 1 1 2 0 2 1 1 1 0 1 0 1 2 2 0 2 1 0 0 0 2 2 1 2 1 2 0 0 2 0 0\n",
            " 1 0 0 1 1 1 0 0 2 1 2 1 1 1 1 2 2 1 1 0 1 2 2 1 1 2 1 1 1 1 2]\n"
          ]
        }
      ]
    },
    {
      "cell_type": "code",
      "source": [
        "clf=svm.SVC(kernel=\"linear\") \n",
        "clf.fit(x_train,y_train) \n",
        "y_pred=clf.predict(x_test)\n",
        "acc=metrics.accuracy_score(y_test,y_pred); \n",
        "print(acc);"
      ],
      "metadata": {
        "colab": {
          "base_uri": "https://localhost:8080/"
        },
        "id": "CIPWt2yloRT8",
        "outputId": "57f76030-7f82-4d61-b9ff-7773cce307ad"
      },
      "execution_count": 15,
      "outputs": [
        {
          "output_type": "stream",
          "name": "stdout",
          "text": [
            "0.9444444444444444\n"
          ]
        }
      ]
    }
  ]
}